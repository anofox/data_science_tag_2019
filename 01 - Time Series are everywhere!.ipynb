{
 "cells": [
  {
   "cell_type": "code",
   "execution_count": null,
   "metadata": {},
   "outputs": [],
   "source": [
    "suppressPackageStartupMessages(library(tidyverse))\n",
    "suppressPackageStartupMessages(library(lubridate))\n",
    "suppressPackageStartupMessages(library(quantmod))\n",
    "suppressPackageStartupMessages(library(TSstudio))\n",
    "\n",
    "# size of plots\n",
    "options(repr.plot.height=8, repr.plot.width=20)\n",
    "theme_set(theme_bw())\n",
    "\n",
    "load('elecdaily.RData')\n",
    "load('carparts.RData')"
   ]
  },
  {
   "cell_type": "markdown",
   "metadata": {},
   "source": [
    "# Time Series are everywhere!"
   ]
  },
  {
   "cell_type": "markdown",
   "metadata": {},
   "source": [
    "## Examples / Use Cases"
   ]
  },
  {
   "cell_type": "markdown",
   "metadata": {},
   "source": [
    "## Case 1: Spare Parts"
   ]
  },
  {
   "cell_type": "markdown",
   "metadata": {},
   "source": [
    "All manufacturing companies need to hold spare parts for their products in their stock. These companies need to fulfill \n",
    "- a given service level to their customers, \n",
    "- but on the other side, they do want to avoid over-stocking. \n",
    "\n",
    "Therefore, an accurate demand forecast is necessary. In the case of spare part demand manufacturing companies have for most parts rare demand. That means they have many periods with zero demand that makes it difficult to forecast these series. "
   ]
  },
  {
   "cell_type": "code",
   "execution_count": null,
   "metadata": {},
   "outputs": [],
   "source": [
    "ts_info(carparts)"
   ]
  },
  {
   "cell_type": "code",
   "execution_count": null,
   "metadata": {},
   "outputs": [],
   "source": [
    "ts_plot(carparts[, 50], slider = T, Xgrid = T, Ygrid = T, title = 'Intermittent Time Series')"
   ]
  },
  {
   "cell_type": "code",
   "execution_count": null,
   "metadata": {},
   "outputs": [],
   "source": [
    "ts_plot(carparts[, 500], slider = T, Xgrid = T, Ygrid = T, title = 'Intermittent Time Series')"
   ]
  },
  {
   "cell_type": "code",
   "execution_count": null,
   "metadata": {},
   "outputs": [],
   "source": [
    "ts_plot(carparts[, 1250], slider = T, Xgrid = T, Ygrid = T, title = 'Intermittent Time Series')"
   ]
  },
  {
   "cell_type": "markdown",
   "metadata": {},
   "source": [
    "## Case 2: Electricity Demand\n",
    "\n",
    "\n"
   ]
  },
  {
   "cell_type": "markdown",
   "metadata": {},
   "source": [
    "Forecasting electricity demand plays a critical role in the electric industry, as it the basis of power system planning and operation. Different horizons may be interesting for this industry:\n",
    "- short term planning: how to allocate resources?\n",
    "- long-term plan: do we need a new power plant?"
   ]
  },
  {
   "cell_type": "code",
   "execution_count": null,
   "metadata": {},
   "outputs": [],
   "source": [
    "ts_plot(elecdaily[, 'Demand'], slider = T, Xgrid = T, Ygrid = T, title = 'Daily Electricity Demand')"
   ]
  },
  {
   "cell_type": "markdown",
   "metadata": {},
   "source": [
    "### Multivariate Relationships in Electricity Demand\n",
    "\n",
    "The electricity demand also depends strongly on the temperature as on customer behavior:\n",
    "\n",
    "- In the morning and evening, most people are at home such that the demand increase\n",
    "- When temperature increases or decreases cooling or heating devices are used\n",
    "- ..."
   ]
  },
  {
   "cell_type": "code",
   "execution_count": null,
   "metadata": {},
   "outputs": [],
   "source": [
    "ts_plot(elecdaily[, 'Temperature'], slider = T, Xgrid = T, Ygrid = T, title = 'Daily Temperature')"
   ]
  },
  {
   "cell_type": "markdown",
   "metadata": {},
   "source": [
    "The Scatter plot between temperature and demand shows the typicall *U*-shape. Cold and warm temperatures implies an increased electricity demand."
   ]
  },
  {
   "cell_type": "code",
   "execution_count": null,
   "metadata": {},
   "outputs": [],
   "source": [
    "p <- ggplot(as_tibble(elecdaily), aes(x=Temperature, y=Demand)) + \n",
    "    geom_point() +\n",
    "    geom_smooth(method = 'loess') +\n",
    "    labs(title = 'Electricity Demand depends on Temperature')\n",
    "plotly::ggplotly(p)"
   ]
  },
  {
   "cell_type": "markdown",
   "metadata": {},
   "source": [
    "## Case 3: Stock Market (interactive)"
   ]
  },
  {
   "cell_type": "markdown",
   "metadata": {},
   "source": [
    "Analyzing stock market prices, volumes, or returns may be interesting e.g., for \n",
    "\n",
    "- measuring the effect political or management decisions on the stock (e.g., Event Studies) as a basis for future decisions\n",
    "- use political or management decisions for earning money \n",
    "- many more use cases"
   ]
  },
  {
   "cell_type": "markdown",
   "metadata": {},
   "source": [
    "### **YOUR TURN**\n",
    "\n",
    "Use your own stock symbol, e.g.\n",
    "- Amazon: AMZN\n",
    "- Google: GOOGL\n",
    "- Apple: AAPL\n",
    "- Daimler: DAI.DE\n",
    "- SAP: SAP.DE"
   ]
  },
  {
   "cell_type": "code",
   "execution_count": null,
   "metadata": {},
   "outputs": [],
   "source": [
    "stock_symbol <- 'DAI.DE'\n",
    "today <- Sys.Date()\n",
    "one_year_from_today <- today - days(5 * 365)"
   ]
  },
  {
   "cell_type": "markdown",
   "metadata": {},
   "source": [
    "### Get Stock Data from Yahoo Finance"
   ]
  },
  {
   "cell_type": "code",
   "execution_count": null,
   "metadata": {},
   "outputs": [],
   "source": [
    "stock_ts_data <- getSymbols(stock_symbol, from=one_year_from_today, to=today, auto.assign=FALSE)"
   ]
  },
  {
   "cell_type": "code",
   "execution_count": null,
   "metadata": {},
   "outputs": [],
   "source": [
    "names(stock_ts_data) %>%\n",
    "    stringr::str_replace(stock_symbol, '') %>%\n",
    "    stringr::str_replace('[.]', '') -> names(stock_ts_data)"
   ]
  },
  {
   "cell_type": "markdown",
   "metadata": {},
   "source": [
    "### Plot the Closing Price"
   ]
  },
  {
   "cell_type": "code",
   "execution_count": null,
   "metadata": {},
   "outputs": [],
   "source": [
    "ts_plot(ts.obj = stock_ts_data$Close, slider = T, Xgrid = T, Ygrid = T, title = glue::glue('Daily Closing Price of {symbol}', symbol = stock_symbol))"
   ]
  },
  {
   "cell_type": "markdown",
   "metadata": {},
   "source": [
    "### Plot the Daily Volume"
   ]
  },
  {
   "cell_type": "code",
   "execution_count": null,
   "metadata": {},
   "outputs": [],
   "source": [
    "ts_plot(ts.obj = stock_ts_data$Volume, slider = T, Xgrid = T, Ygrid = T, title = glue::glue('Daily Volume of {symbol}', symbol = stock_symbol))"
   ]
  },
  {
   "cell_type": "markdown",
   "metadata": {},
   "source": [
    "### Plot the Daily Returns"
   ]
  },
  {
   "cell_type": "code",
   "execution_count": null,
   "metadata": {},
   "outputs": [],
   "source": [
    "stock_ts_data %>% \n",
    "    Ad() %>% \n",
    "    dailyReturn(type='log') -> log_returns"
   ]
  },
  {
   "cell_type": "code",
   "execution_count": null,
   "metadata": {},
   "outputs": [],
   "source": [
    "ts_plot(ts.obj = log_returns, slider = T, Xgrid = T, Ygrid = T, title = glue::glue('Daily Returns of {symbol}', symbol = stock_symbol))"
   ]
  },
  {
   "cell_type": "markdown",
   "metadata": {},
   "source": [
    "## **YOUR TURN**: Which is easiest to forecast? - Order the list\n",
    "\n",
    "- Daimler stock price tomorrow?\n",
    "- Daimler stock price in 1 year?\n",
    "- Electricity demand next 3 hours?\n",
    "- Total sales of cars in Germany next month?\n",
    "- Max. temperature tomorrow?\n",
    "- Next meteor hit on earth?\n",
    "- Sunrise"
   ]
  },
  {
   "cell_type": "markdown",
   "metadata": {},
   "source": [
    "Your answer"
   ]
  }
 ],
 "metadata": {
  "kernelspec": {
   "display_name": "R for Time Series",
   "language": "R",
   "name": "r_kernel"
  },
  "language_info": {
   "codemirror_mode": "r",
   "file_extension": ".r",
   "mimetype": "text/x-r-source",
   "name": "R",
   "pygments_lexer": "r",
   "version": "3.6.1"
  }
 },
 "nbformat": 4,
 "nbformat_minor": 4
}
